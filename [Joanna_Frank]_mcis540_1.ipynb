{
 "cells": [
  {
   "cell_type": "code",
   "execution_count": 22,
   "id": "61b1740a",
   "metadata": {},
   "outputs": [],
   "source": [
    "import math"
   ]
  },
  {
   "cell_type": "markdown",
   "id": "cf35a8a5",
   "metadata": {},
   "source": [
    "### a."
   ]
  },
  {
   "cell_type": "code",
   "execution_count": 23,
   "id": "ee81c7cf",
   "metadata": {},
   "outputs": [],
   "source": [
    "x=5*6"
   ]
  },
  {
   "cell_type": "code",
   "execution_count": 3,
   "id": "81ade214",
   "metadata": {
    "scrolled": true
   },
   "outputs": [
    {
     "name": "stdout",
     "output_type": "stream",
     "text": [
      "30\n"
     ]
    }
   ],
   "source": [
    "print(x)"
   ]
  },
  {
   "cell_type": "code",
   "execution_count": 4,
   "id": "28c10fc4",
   "metadata": {},
   "outputs": [],
   "source": [
    "y=4+6"
   ]
  },
  {
   "cell_type": "code",
   "execution_count": 5,
   "id": "5277c2c6",
   "metadata": {},
   "outputs": [
    {
     "name": "stdout",
     "output_type": "stream",
     "text": [
      "10\n"
     ]
    }
   ],
   "source": [
    "print(y)"
   ]
  },
  {
   "cell_type": "code",
   "execution_count": 6,
   "id": "77c2fea4",
   "metadata": {},
   "outputs": [],
   "source": [
    "b=x/y"
   ]
  },
  {
   "cell_type": "code",
   "execution_count": 7,
   "id": "da8125e6",
   "metadata": {},
   "outputs": [
    {
     "name": "stdout",
     "output_type": "stream",
     "text": [
      "3.0\n"
     ]
    }
   ],
   "source": [
    "print(b)"
   ]
  },
  {
   "cell_type": "markdown",
   "id": "607ab923",
   "metadata": {},
   "source": [
    "### b."
   ]
  },
  {
   "cell_type": "code",
   "execution_count": 8,
   "id": "b88f7236",
   "metadata": {},
   "outputs": [],
   "source": [
    "g=17+8+6"
   ]
  },
  {
   "cell_type": "code",
   "execution_count": 9,
   "id": "cb163840",
   "metadata": {},
   "outputs": [
    {
     "name": "stdout",
     "output_type": "stream",
     "text": [
      "31\n"
     ]
    }
   ],
   "source": [
    "print(g)"
   ]
  },
  {
   "cell_type": "code",
   "execution_count": 10,
   "id": "1c01684c",
   "metadata": {},
   "outputs": [
    {
     "data": {
      "text/plain": [
       "5.5677643628300215"
      ]
     },
     "execution_count": 10,
     "metadata": {},
     "output_type": "execute_result"
    }
   ],
   "source": [
    "math.sqrt(g)"
   ]
  },
  {
   "cell_type": "markdown",
   "id": "eda1e0ea",
   "metadata": {},
   "source": [
    "### c."
   ]
  },
  {
   "cell_type": "code",
   "execution_count": 12,
   "id": "87aaedfa",
   "metadata": {},
   "outputs": [],
   "source": [
    "m=5-8"
   ]
  },
  {
   "cell_type": "code",
   "execution_count": 13,
   "id": "96a38550",
   "metadata": {},
   "outputs": [
    {
     "name": "stdout",
     "output_type": "stream",
     "text": [
      "-3\n"
     ]
    }
   ],
   "source": [
    "print(m)"
   ]
  },
  {
   "cell_type": "code",
   "execution_count": 14,
   "id": "185bf3b2",
   "metadata": {},
   "outputs": [
    {
     "data": {
      "text/plain": [
       "-27"
      ]
     },
     "execution_count": 14,
     "metadata": {},
     "output_type": "execute_result"
    }
   ],
   "source": [
    "m**3"
   ]
  },
  {
   "cell_type": "markdown",
   "id": "7b011f29",
   "metadata": {},
   "source": [
    "### d."
   ]
  },
  {
   "cell_type": "code",
   "execution_count": 15,
   "id": "92931450",
   "metadata": {},
   "outputs": [],
   "source": [
    "w=-21+102"
   ]
  },
  {
   "cell_type": "code",
   "execution_count": 16,
   "id": "6e77abab",
   "metadata": {},
   "outputs": [
    {
     "name": "stdout",
     "output_type": "stream",
     "text": [
      "81\n"
     ]
    }
   ],
   "source": [
    "print(w)"
   ]
  },
  {
   "cell_type": "code",
   "execution_count": 19,
   "id": "88024d47",
   "metadata": {},
   "outputs": [
    {
     "data": {
      "text/plain": [
       "36.0"
      ]
     },
     "execution_count": 19,
     "metadata": {},
     "output_type": "execute_result"
    }
   ],
   "source": [
    "4*(math.sqrt(w))"
   ]
  },
  {
   "cell_type": "markdown",
   "id": "dace6b28",
   "metadata": {},
   "source": [
    "### e."
   ]
  },
  {
   "cell_type": "code",
   "execution_count": 20,
   "id": "74300261",
   "metadata": {},
   "outputs": [],
   "source": [
    "q= 8 % 5"
   ]
  },
  {
   "cell_type": "code",
   "execution_count": 21,
   "id": "9a1c820a",
   "metadata": {},
   "outputs": [
    {
     "name": "stdout",
     "output_type": "stream",
     "text": [
      "3\n"
     ]
    }
   ],
   "source": [
    "print(q)"
   ]
  }
 ],
 "metadata": {
  "kernelspec": {
   "display_name": "Python 3 (ipykernel)",
   "language": "python",
   "name": "python3"
  },
  "language_info": {
   "codemirror_mode": {
    "name": "ipython",
    "version": 3
   },
   "file_extension": ".py",
   "mimetype": "text/x-python",
   "name": "python",
   "nbconvert_exporter": "python",
   "pygments_lexer": "ipython3",
   "version": "3.9.7"
  }
 },
 "nbformat": 4,
 "nbformat_minor": 5
}
